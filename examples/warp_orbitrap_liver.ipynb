{
 "cells": [
  {
   "cell_type": "code",
   "execution_count": 2,
   "metadata": {},
   "outputs": [],
   "source": [
    "import msiwarp as mx\n",
    "\n",
    "from msiwarp.util.read_sbd import read_sbd_meta, read_spectrum_fs\n",
    "from msiwarp.util.warp import to_mx_peaks, to_mz, to_height, peak_density_mz\n",
    "from msiwarp.util.warp import spectra_to_triplet, plot_range, get_mx_spectrum\n",
    "from msiwarp.util.warp import generate_mean_spectrum\n",
    "\n",
    "import matplotlib.pyplot as plt\n",
    "import numpy as np"
   ]
  },
  {
   "cell_type": "code",
   "execution_count": 3,
   "metadata": {},
   "outputs": [
    {
     "name": "stdout",
     "output_type": "stream",
     "text": [
      "using spectrum 200 as reference, sigma: 0.3 ppm, and epsilon: 1.53 ppm\n"
     ]
    }
   ],
   "source": [
    "i_r = 200\n",
    "\n",
    "# scaling to test impact of sigma on alignment performance\n",
    "sigma_1 = 3.0e-7\n",
    "epsilon = 0.5\n",
    "\n",
    "print(\"using spectrum {} as reference, sigma: {} ppm, and epsilon: {:0.2f} ppm\".format(i_r, sigma_1 * 1e6, 2 * epsilon * sigma_1 * 1e6))\n",
    "\n",
    "fdir = 'datasets/orbitrap-liver/'\n",
    "\n",
    "fpath_sbd = fdir + '5mixes_onratliver_50micron-centroided.sbd'\n",
    "fpath_triplets_raw = fdir + 'triplets_raw.dat'\n",
    "fpath_triplets_warped = fdir + 'triplets_warped.dat'\n",
    "fpath_dispersion_csv = fdir + 'results/dispersion_100.csv'\n",
    "fpath_scatter = fdir + 'results/scatter'\n",
    "\n",
    "# experiment settings\n",
    "instrument_type = 'orbitrap'\n",
    "mz_begin = 150\n",
    "mz_end = 1000\n",
    "\n",
    "meta = read_sbd_meta(fpath_sbd)\n",
    "spectra = [get_mx_spectrum(fpath_sbd, meta, i, sigma_1, instrument_type) for i in range(len(meta))]\n",
    "tic = np.array([m[2] for m in meta])"
   ]
  },
  {
   "cell_type": "code",
   "execution_count": 11,
   "metadata": {},
   "outputs": [],
   "source": [
    "xi = np.linspace(mz_begin, mz_end, 1000)\n",
    "(yi, xp, yp) = peak_density_mz(spectra, xi, bandwidth=15, stride=100)\n",
    "\n",
    "# we're using the same warping nodes for all spectra here\n",
    "node_mzs = (xp[:-1] + xp[1:]) / 2\n",
    "node_mzs = np.array([mz_begin, *node_mzs, mz_end])\n",
    "\n",
    "# setup warping parameters \n",
    "n_steps = 33 # the slack of a warping node is +- (n_steps * s * sigma @ the node's m/z)\n",
    "s = 2 * epsilon / n_steps \n",
    "\n",
    "node_deltas = np.array([s * sigma_1 * mz ** (3/2)  for mz in node_mzs])\n",
    "nodes = mx.initialize_nodes(node_mzs, node_sigmas, n_steps)"
   ]
  },
  {
   "cell_type": "code",
   "execution_count": 13,
   "metadata": {},
   "outputs": [
    {
     "name": "stdout",
     "output_type": "stream",
     "text": [
      "warping spectra...\n",
      "found optimal warpings in 247.16s\n",
      "warped spectra in 23.98s\n"
     ]
    }
   ],
   "source": [
    "s_r = get_mx_spectrum(fpath_sbd, meta, i_r, sigma_1, instrument_type)\n",
    "\n",
    "print(\"warping spectra...\")\n",
    "\n",
    "import time\n",
    "t0 = time.time()\n",
    "optimal_moves = mx.find_optimal_spectra_warpings(spectra, s_r, nodes, epsilon)\n",
    "t1 = time.time()\n",
    "print(\"found optimal warpings in {:0.2f}s\".format(t1 - t0))\n",
    "\n",
    "t2 = time.time()\n",
    "warped_spectra = [mx.warp_peaks(s_i, nodes, o_i) for (s_i, o_i) in zip(spectra, optimal_moves)]\n",
    "t3 = time.time()\n",
    "print(\"warped spectra in {:0.2f}s\".format(t3 - t2))"
   ]
  },
  {
   "cell_type": "code",
   "execution_count": 22,
   "metadata": {},
   "outputs": [
    {
     "name": "stdout",
     "output_type": "stream",
     "text": [
      "generating mean spectrum with 1334052 sampling points...\n",
      "generated mean spectrum\n"
     ]
    }
   ],
   "source": [
    "n_points = 2000000\n",
    "\n",
    "s_m = generate_mean_spectrum(spectra, n_points, sigma_1,\n",
    "                             mz_begin, mz_end, tic, instrument_type)\n",
    "\n",
    "s_m_100 = mx.peaks_top_n(s_m, 100)\n",
    "mz_ref = np.sort(to_mz(s_m_100))"
   ]
  },
  {
   "cell_type": "code",
   "execution_count": 35,
   "metadata": {},
   "outputs": [
    {
     "name": "stdout",
     "output_type": "stream",
     "text": [
      "made scatter plot output directory\n"
     ]
    },
    {
     "data": {
      "image/png": "[encoded data removed]",
      "text/plain": [
       "<Figure size 432x432 with 1 Axes>"
      ]
     },
     "metadata": {},
     "output_type": "display_data"
    }
   ],
   "source": [
    "mass_tolerance = 5 # ppm\n",
    "\n",
    "import os\n",
    "\n",
    "if not os.path.exists(fpath_scatter):    \n",
    "    os.makedirs(fpath_scatter)\n",
    "    print(\"made scatter plot output directory\")\n",
    "else:\n",
    "    print(\"using existing scatter plot output directory\")\n",
    "    \n",
    "fig, ax = plt.subplots(figsize=(6,6))\n",
    "for i, mz_i in enumerate(mz_ref):\n",
    "    d = mass_tolerance * mz_i / 1e6 # -+ mass_tolerance around reference mass \n",
    "    mz0 = mz_i - d\n",
    "    mz1 = mz_i + d    \n",
    "    \n",
    "    plot_range(fpath_triplets_raw, mz0, mz1, ax, 'tab:cyan', 5, in_ppm=True)\n",
    "    plot_range(fpath_triplets_warped, mz0, mz1, ax, 'tab:orange', 5, in_ppm=True)\n",
    "    \n",
    "    ax.set_facecolor((0.0, 0.0, 0.0))\n",
    "    ax.set_title('m/z {:0.3f}'.format(mz_i))\n",
    "    ax.set_xticks([-mass_tolerance, 0, mass_tolerance])\n",
    "#     ax.set_xlim([mz0, mz1])\n",
    "    \n",
    "    fig.savefig(fpath_scatter + '/mz_{}.png'.format(int(mz_i)), dpi=200)\n",
    "    ax.cla()"
   ]
  },
  {
   "cell_type": "code",
   "execution_count": 28,
   "metadata": {},
   "outputs": [
    {
     "name": "stdout",
     "output_type": "stream",
     "text": [
      "median mass dispersion raw: 0.5924\n",
      "median mass dispersion warped: 0.1821\n"
     ]
    }
   ],
   "source": [
    "from msiwarp.util.warp import dispersion_triplets\n",
    "import pandas as pd\n",
    "\n",
    "dispersion_raw = np.zeros(len(mz_ref))\n",
    "dispersion_warped = np.zeros(len(mz_ref))\n",
    "    \n",
    "for i, mz_i in enumerate(mz_ref):\n",
    "    d = mass_tolerance * mz_i / 1e6 # -+ 350 ppm around reference mass\n",
    "    mz0 = mz_i - d\n",
    "    mz1 = mz_i + d\n",
    "    \n",
    "    ts_raw = mx.get_triplets_range(fpath_triplets_raw, mz0, mz1)\n",
    "    ts_warped = mx.get_triplets_range(fpath_triplets_warped, mz0, mz1)\n",
    "    \n",
    "    q = 0.0 # remove background signal\n",
    "    if len(ts_raw) > 0:\n",
    "        dispersion_raw[i] = dispersion_triplets(ts_raw,  q)\n",
    "    if len(ts_warped) > 0:  \n",
    "        dispersion_warped[i] = dispersion_triplets(ts_warped, q)\n",
    "\n",
    "\n",
    "d = {'mz': mz_ref,\n",
    "     'dispersion raw [ppm]': dispersion_raw,\n",
    "     'dispersion warped [ppm]': dispersion_warped}\n",
    "\n",
    "df = pd.DataFrame(d)\n",
    "df.round(4).to_csv(fpath_dispersion_csv, index=False)\n",
    "b\n",
    "print('median mass dispersion raw: {:0.4f}'.format(np.median(dispersion_raw)))\n",
    "print('median mass dispersion warped: {:0.4f}'.format(np.median(dispersion_warped)))"
   ]
  }
 ],
 "metadata": {
  "kernelspec": {
   "display_name": "Python 3",
   "language": "python",
   "name": "python3"
  },
  "language_info": {
   "codemirror_mode": {
    "name": "ipython",
    "version": 3
   },
   "file_extension": ".py",
   "mimetype": "text/x-python",
   "name": "python",
   "nbconvert_exporter": "python",
   "pygments_lexer": "ipython3",
   "version": "3.6.8"
  }
 },
 "nbformat": 4,
 "nbformat_minor": 4
}
