{
 "cells": [
  {
   "cell_type": "code",
   "execution_count": 1,
   "metadata": {},
   "outputs": [
    {
     "name": "stdout",
     "output_type": "stream",
     "text": [
      "using spectrum 200 as reference, sigma: 150.0 ppm, and epsilon: 765.00 ppm\n"
     ]
    }
   ],
   "source": [
    "import msiwarp as mx\n",
    "\n",
    "from msiwarp.util.read_sbd import read_sbd_meta, read_spectrum_fs\n",
    "from msiwarp.util.warp import to_mx_peaks, to_mz, to_height, peak_density_mz\n",
    "from msiwarp.util.warp import spectra_to_triplet, plot_range, get_mx_spectrum\n",
    "from msiwarp.util.warp import generate_mean_spectrum\n",
    "\n",
    "import matplotlib.pyplot as plt\n",
    "import numpy as np\n",
    "\n",
    "\n",
    "# scaling to test impact of sigma on alignment performance\n",
    "sigma_1 = 1.5e-4\n",
    "epsilon = 2.55\n",
    "slack = 2.0 * epsilon * sigma_1\n",
    "\n",
    "print(\"using spectrum {} as reference, sigma: {} ppm, and epsilon: {:0.2f} ppm\".format(i_r, sigma_1 * 1e6, slack * 1e6))\n",
    "\n",
    "fdir = 'datasets/tof-kidney/'\n",
    "\n",
    "fpath_sbd = fdir + '50um_sample_3neg-centroided-snr.sbd'\n",
    "fpath_triplets_raw = fdir + 'triplets_raw.dat'\n",
    "fpath_triplets_warped = fdir + 'triplets_warped.dat'\n",
    "fpath_dispersion_csv = fdir + 'results/dispersion_100.csv'\n",
    "fpath_scatter = fdir + 'results/scatter'\n",
    "\n",
    "# experiment settings\n",
    "instrument_type = 'tof'\n",
    "mz_begin = 450\n",
    "mz_end = 2000\n",
    "\n",
    "meta = read_sbd_meta(fpath_sbd)\n",
    "spectra = [get_mx_spectrum(fpath_sbd, meta, i, sigma_1, instrument_type) for i in range(len(meta))]\n",
    "tic = np.array([m[2] for m in meta])"
   ]
  },
  {
   "cell_type": "code",
   "execution_count": 3,
   "metadata": {},
   "outputs": [],
   "source": [
    "n_steps = 50\n",
    "n_peaks = 30\n",
    "max_n_nodes = 10\n",
    "slack = 2.0 * epsilon * sigma_1\n",
    "\n",
    "params = mx.node_params(mx.Instrument.TOF,\n",
    "                        n_steps,\n",
    "                        n_peaks,\n",
    "                        max_n_nodes,\n",
    "                        mz_begin,\n",
    "                        mz_end,\n",
    "                        slack)\n",
    "\n",
    "# --------- set reference spectrum ----------\n",
    "i_r = 200\n",
    "s_ref = spectra[i_r]"
   ]
  },
  {
   "cell_type": "code",
   "execution_count": 4,
   "metadata": {},
   "outputs": [
    {
     "name": "stdout",
     "output_type": "stream",
     "text": [
      "found optimal warpings in 106.07 seconds\n"
     ]
    }
   ],
   "source": [
    "import time\n",
    "\n",
    "n_cores = 8\n",
    "\n",
    "t0 = time.time()\n",
    "warping_funcs = mx.find_optimal_warpings_uni(spectra, s_ref, params, epsilon, n_cores)\n",
    "t1 = time.time()\n",
    "print(\"found optimal warpings in {:0.2f} seconds\".format(t1 - t0))"
   ]
  },
  {
   "cell_type": "code",
   "execution_count": 91,
   "metadata": {},
   "outputs": [
    {
     "name": "stdout",
     "output_type": "stream",
     "text": [
      "176\n"
     ]
    },
    {
     "data": {
      "image/png": "[encoded data removed]",
      "text/plain": [
       "<Figure size 720x432 with 1 Axes>"
      ]
     },
     "metadata": {
      "needs_background": "light"
     },
     "output_type": "display_data"
    }
   ],
   "source": [
    "from msiwarp.util.warp import plot_peak_matches, plot_warping\n",
    "\n",
    "i_s = np.random.choice(len(spectra))\n",
    "s_s = spectra[i_s]\n",
    "\n",
    "recal = warping_funcs[i_s]\n",
    "xw = ([w[0] for w in recal])\n",
    "yw = np.array([w[1] for w in recal])\n",
    "\n",
    "pms = mx.overlapping_peak_pairs(s_ref, s_s, epsilon)\n",
    "n_peak_matches = len(pms)\n",
    "print(n_peak_matches)\n",
    "    \n",
    "_, ax = plt.subplots(figsize=(10,6))\n",
    "ax.axhline(0, c='tab:gray')\n",
    "plot_peak_matches(pms, 0.5, 150, ax=ax)\n",
    "ax.plot(xw, -yw, '-o', c='tab:orange')\n",
    "plt.show()"
   ]
  }
 ],
 "metadata": {
  "kernelspec": {
   "display_name": "Python 3",
   "language": "python",
   "name": "python3"
  },
  "language_info": {
   "codemirror_mode": {
    "name": "ipython",
    "version": 3
   },
   "file_extension": ".py",
   "mimetype": "text/x-python",
   "name": "python",
   "nbconvert_exporter": "python",
   "pygments_lexer": "ipython3",
   "version": "3.8.5"
  }
 },
 "nbformat": 4,
 "nbformat_minor": 4
}
